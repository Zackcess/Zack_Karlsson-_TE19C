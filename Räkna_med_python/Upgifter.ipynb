{
 "metadata": {
  "language_info": {
   "codemirror_mode": {
    "name": "ipython",
    "version": 3
   },
   "file_extension": ".py",
   "mimetype": "text/x-python",
   "name": "python",
   "nbconvert_exporter": "python",
   "pygments_lexer": "ipython3",
   "version": "3.8.3-final"
  },
  "orig_nbformat": 2,
  "kernelspec": {
   "name": "python_defaultSpec_1599046314186",
   "display_name": "Python 3.8.3 64-bit ('zack.karlsson': virtualenv)"
  }
 },
 "nbformat": 4,
 "nbformat_minor": 2,
 "cells": [
  {
   "cell_type": "code",
   "execution_count": 8,
   "metadata": {
    "tags": []
   },
   "outputs": [
    {
     "output_type": "stream",
     "name": "stdout",
     "text": "5\n11.0\n127\n"
    }
   ],
   "source": [
    "#uppgift 1\n",
    "#a\n",
    "print(12-7)\n",
    "#b\n",
    "print(24/3 + 3)\n",
    "#c\n",
    "print(3*43-2)"
   ]
  },
  {
   "cell_type": "code",
   "execution_count": 9,
   "metadata": {
    "tags": []
   },
   "outputs": [
    {
     "output_type": "stream",
     "name": "stdout",
     "text": "Hej! hur mår du?\n"
    }
   ],
   "source": [
    "#uppgift 2\n",
    "print(\"Hej! hur mår du?\")"
   ]
  },
  {
   "cell_type": "code",
   "execution_count": 12,
   "metadata": {
    "tags": []
   },
   "outputs": [
    {
     "output_type": "stream",
     "name": "stdout",
     "text": "30\n59\n168\n"
    }
   ],
   "source": [
    "#uppgift 3\n",
    "#a\n",
    "print(15*2)\n",
    "#b\n",
    "print(15*2+29)\n",
    "#c\n",
    "print(3*15+3*29+3*12)"
   ]
  },
  {
   "cell_type": "code",
   "execution_count": 13,
   "metadata": {
    "tags": []
   },
   "outputs": [
    {
     "output_type": "stream",
     "name": "stdout",
     "text": "9863\n"
    }
   ],
   "source": [
    "#uppgift 4\n",
    "print(219*45+8)"
   ]
  },
  {
   "cell_type": "code",
   "execution_count": 16,
   "metadata": {},
   "outputs": [
    {
     "output_type": "error",
     "ename": "SyntaxError",
     "evalue": "unexpected EOF while parsing (<ipython-input-16-5474b6643c06>, line 3)",
     "traceback": [
      "\u001b[1;36m  File \u001b[1;32m\"<ipython-input-16-5474b6643c06>\"\u001b[1;36m, line \u001b[1;32m3\u001b[0m\n\u001b[1;33m    print(\"Om du kör med hastigheten 70km/h i 1,5 timmar, så hinner du 105.0 km\"\u001b[0m\n\u001b[1;37m                                                                                ^\u001b[0m\n\u001b[1;31mSyntaxError\u001b[0m\u001b[1;31m:\u001b[0m unexpected EOF while parsing\n"
     ]
    }
   ],
   "source": [
    "#uppgift 5\n",
    "#a/b\n",
    "print(\"Om du kör med hastigheten 70km/h i 1,5 timmar, så hinner du 105.0 km\")"
   ]
  },
  {
   "cell_type": "code",
   "execution_count": 19,
   "metadata": {
    "tags": []
   },
   "outputs": [
    {
     "output_type": "stream",
     "name": "stdout",
     "text": "hej + hej\nhejhejhej\nhejhejhejhejhejhejhejhejhejhej\n"
    }
   ],
   "source": [
    "#uppgift 6\n",
    "#a jag tror den visar hej+hej och hej tre gånger\n",
    "print(\"hej + hej\")\n",
    "print(3*\"hej\")\n",
    "#c\n",
    "print(10*\"hej\")"
   ]
  },
  {
   "cell_type": "code",
   "execution_count": 20,
   "metadata": {},
   "outputs": [],
   "source": [
    "#Uppgift 7\n",
    "#1A\n",
    "#2D\n",
    "#3C\n",
    "#4B\n"
   ]
  },
  {
   "cell_type": "code",
   "execution_count": 21,
   "metadata": {
    "tags": []
   },
   "outputs": [
    {
     "output_type": "stream",
     "name": "stdout",
     "text": "23\n5\n"
    }
   ],
   "source": [
    "#uppgift 8\n",
    "#b\n",
    "#c Ja\n",
    "print(3+2*10)\n",
    "print(5*(8-7))"
   ]
  },
  {
   "cell_type": "code",
   "execution_count": 23,
   "metadata": {
    "tags": []
   },
   "outputs": [
    {
     "output_type": "stream",
     "name": "stdout",
     "text": "4\n9\n16\n"
    }
   ],
   "source": [
    "#uppgift 9\n",
    "#a uppgöhjt till\n",
    "print(2**2)\n",
    "print(3**2)\n",
    "print(4**2)\n",
    "#b upphöjt"
   ]
  },
  {
   "cell_type": "code",
   "execution_count": 27,
   "metadata": {
    "tags": []
   },
   "outputs": [
    {
     "output_type": "stream",
     "name": "stdout",
     "text": "4.5 och 4\n1.8333333333333333 och 1\n2.625 och 2\n3.3333333333333335 3\n"
    }
   ],
   "source": [
    "#uppgift 10\n",
    "#a \n",
    "print(9/2,\"och\", 9//2)\n",
    "print(11/6,\"och\", 11//6)\n",
    "print(21/8,\"och\", 21//8)\n",
    "print(10/3, 10//3)\n",
    "#b Heltals divison"
   ]
  },
  {
   "cell_type": "code",
   "execution_count": null,
   "metadata": {},
   "outputs": [],
   "source": [
    "#uppgift 1\n",
    "#a \n",
    "bredd=5\n",
    "längd=8\n",
    "print(\"En rektangel har bredden\", bredd, \"cm och längden\",längd, \"cm\")\n",
    "print "
   ]
  },
  {
   "cell_type": "code",
   "execution_count": null,
   "metadata": {},
   "outputs": [],
   "source": []
  }
 ]
}