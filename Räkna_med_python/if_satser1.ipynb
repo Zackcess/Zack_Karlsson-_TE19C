{
 "metadata": {
  "language_info": {
   "codemirror_mode": {
    "name": "ipython",
    "version": 3
   },
   "file_extension": ".py",
   "mimetype": "text/x-python",
   "name": "python",
   "nbconvert_exporter": "python",
   "pygments_lexer": "ipython3",
   "version": "3.8.3-final"
  },
  "orig_nbformat": 2,
  "kernelspec": {
   "name": "python_defaultSpec_1599807865474",
   "display_name": "Python 3.8.3 64-bit ('base': conda)"
  }
 },
 "nbformat": 4,
 "nbformat_minor": 2,
 "cells": [
  {
   "source": [
    "#Jämnt eller Udda?\n",
    "Läs in ett tal och checka om talet är jämnt eller udda"
   ],
   "cell_type": "markdown",
   "metadata": {}
  },
  {
   "cell_type": "code",
   "execution_count": 5,
   "metadata": {
    "tags": []
   },
   "outputs": [
    {
     "output_type": "stream",
     "name": "stdout",
     "text": "talet är udda\n"
    }
   ],
   "source": [
    "tal= int(input(\"ange ett heltal: \")) #Typomvandlar till int (heltal)\n",
    "\n",
    "#moduloroperator med % --> om tal%2 == 0 --> jämnt, annars udda\n",
    "#print(tal % 2 )\n",
    "\n",
    "if tal%2 ==0:\n",
    "    print(\"talet är jämnt\")\n",
    "else:\n",
    "    print(\"talet är udda\")\n"
   ]
  },
  {
   "cell_type": "code",
   "execution_count": 19,
   "metadata": {
    "tags": []
   },
   "outputs": [
    {
     "output_type": "stream",
     "name": "stdout",
     "text": "Trubbig vinkel\n"
    }
   ],
   "source": [
    "vinkel= float(input(\"Ange en vinkel v i grader, där 0<= v <=360: \"))\n",
    "\n",
    "# 0 <= v <90\n",
    "\n",
    "if vinkel >= 0 and vinkel <90:\n",
    "    print(\"spetsig vinkel\")\n",
    "elif vinkel==90:\n",
    "    print(\"rät vinkel\")\n",
    "elif vinkel > 90 and vinkel <180:\n",
    "    print(\"Trubbig vinkel\")\n",
    "else:\n",
    "    print(\"Vinkeln är inte spetsig, rät eller trubbig\")"
   ]
  },
  {
   "source": [
    "# En rätvinklig triangel har en katet som är 3cm, och en hypotensua som är 5cm. Skriv ett program som beräknar den andra katetens längd.\n"
   ],
   "cell_type": "markdown",
   "metadata": {}
  },
  {
   "source": [
    "katet_1 = 3\n",
    "hypotenusa = 5\n",
    "katet2 = (hypotenusa**2 - katet_1**2)**0.5\n",
    "print(katet2)"
   ],
   "cell_type": "code",
   "metadata": {
    "tags": []
   },
   "execution_count": 37,
   "outputs": [
    {
     "output_type": "stream",
     "name": "stdout",
     "text": "4.0\n"
    }
   ]
  },
  {
   "cell_type": "code",
   "execution_count": null,
   "metadata": {},
   "outputs": [],
   "source": []
  }
 ]
}