{
 "metadata": {
  "language_info": {
   "codemirror_mode": {
    "name": "ipython",
    "version": 3
   },
   "file_extension": ".py",
   "mimetype": "text/x-python",
   "name": "python",
   "nbconvert_exporter": "python",
   "pygments_lexer": "ipython3",
   "version": "3.8.3-final"
  },
  "orig_nbformat": 2,
  "kernelspec": {
   "name": "python_defaultSpec_1600254967269",
   "display_name": "Python 3.8.3 64-bit ('base': conda)"
  }
 },
 "nbformat": 4,
 "nbformat_minor": 2,
 "cells": [
  {
   "source": [
    "# Skriv in ett tal och pogrammet avgör om det är positivt eller negativt"
   ],
   "cell_type": "markdown",
   "metadata": {}
  },
  {
   "cell_type": "code",
   "execution_count": 26,
   "metadata": {
    "tags": []
   },
   "outputs": [
    {
     "output_type": "stream",
     "name": "stdout",
     "text": "Talet är postitivt\n"
    }
   ],
   "source": [
    "tal = float(input(\"Ange ett tal: \"))\n",
    "if tal >= 0:\n",
    "    print(\"Talet är postitivt\")\n",
    "elif tal <0:\n",
    "    print(\"Talet är negativt\")"
   ]
  },
  {
   "source": [
    "# Skriv in ett tal och den avgör om det är jämnt, udda eller delbart med 5\n"
   ],
   "cell_type": "markdown",
   "metadata": {}
  },
  {
   "cell_type": "code",
   "execution_count": null,
   "metadata": {},
   "outputs": [],
   "source": [
    "tal= float(input(\"Ange ett tal:\"))\n"
   ]
  }
 ]
}