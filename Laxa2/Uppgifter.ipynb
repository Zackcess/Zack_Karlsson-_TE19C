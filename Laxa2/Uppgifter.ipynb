{
 "metadata": {
  "language_info": {
   "codemirror_mode": {
    "name": "ipython",
    "version": 3
   },
   "file_extension": ".py",
   "mimetype": "text/x-python",
   "name": "python",
   "nbconvert_exporter": "python",
   "pygments_lexer": "ipython3",
   "version": "3.8.3-final"
  },
  "orig_nbformat": 2,
  "kernelspec": {
   "name": "python_defaultSpec_1600254967269",
   "display_name": "Python 3.8.3 64-bit ('base': conda)"
  }
 },
 "nbformat": 4,
 "nbformat_minor": 2,
 "cells": [
  {
   "source": [
    "# Skriv in ett tal och pogrammet avgör om det är positivt eller negativt"
   ],
   "cell_type": "markdown",
   "metadata": {}
  },
  {
   "cell_type": "code",
   "execution_count": 26,
   "metadata": {
    "tags": []
   },
   "outputs": [
    {
     "output_type": "stream",
     "name": "stdout",
     "text": "Talet är postitivt\n"
    }
   ],
   "source": [
    "tal = float(input(\"Ange ett tal: \"))\n",
    "if tal >= 0:\n",
    "    print(\"Talet är postitivt\")\n",
    "elif tal <0:\n",
    "    print(\"Talet är negativt\")"
   ]
  },
  {
   "source": [
    "# Skriv in ett tal och den avgör om det är jämnt, udda eller delbart med 5\n"
   ],
   "cell_type": "markdown",
   "metadata": {}
  },
  {
   "cell_type": "code",
   "execution_count": 28,
   "metadata": {
    "tags": []
   },
   "outputs": [
    {
     "output_type": "stream",
     "name": "stdout",
     "text": "Talet är Udda\n"
    }
   ],
   "source": [
    "tal= float(input(\"Ange ett tal:\"))\n",
    "if tal%2 == 0:\n",
    "    print(\"Talet är jämnt\")\n",
    "elif tal%5 == 0:\n",
    "    print(\"Talet är delbart med fem\")\n",
    "else:\n",
    "    print(\"Talet är Udda\")"
   ]
  },
  {
   "source": [
    "# Låt användaren mata in fyra tal och den spottar ut största talet\n"
   ],
   "cell_type": "markdown",
   "metadata": {}
  },
  {
   "cell_type": "code",
   "execution_count": 45,
   "metadata": {
    "tags": []
   },
   "outputs": [
    {
     "output_type": "stream",
     "name": "stdout",
     "text": "Det största är 4.0\n"
    }
   ],
   "source": [
    "Tal1 = float(input(\"Ange ett tal:\", ))\n",
    "Tal2 = float(input(\"Ange ett tal:\", ))\n",
    "Tal3 = float(input(\"Ange ett tal:\", ))\n",
    "Tal4 = float(input(\"Ange ett tal:\", ))\n",
    "\n",
    "tal = [Tal1, Tal2, Tal3, Tal4]\n",
    "\n",
    "print(\"Det största är\", max(tal))"
   ]
  },
  {
   "source": [
    "# Låt användaren skriva in vinkel"
   ],
   "cell_type": "markdown",
   "metadata": {}
  },
  {
   "cell_type": "code",
   "execution_count": 43,
   "metadata": {
    "tags": []
   },
   "outputs": [
    {
     "output_type": "stream",
     "name": "stdout",
     "text": "Konvex vinkel\n"
    }
   ],
   "source": [
    "vinkel= float(input(\"Ange en vinkel v i grader, där 0<= v <=360: \"))\n",
    "\n",
    "# 0 <= v <90\n",
    "\n",
    "if vinkel >= 0 and vinkel <90:\n",
    "    print(\"spetsig vinkel\")\n",
    "elif vinkel==90:\n",
    "    print(\"rät vinkel\")\n",
    "elif vinkel > 90 and vinkel <180:\n",
    "    print(\"Trubbig vinkel\")\n",
    "elif vinkel == 180:\n",
    "    print(\"Rak vinkel\")\n",
    "elif vinkel > 180 and vinkel < 360:\n",
    "    print(\"Konvex vinkel\")\n",
    "elif vinkel == 360:\n",
    "    print(\"Hel vinkel\")\n",
    "else:\n",
    "    print(\"Det är odefinerat\")\n"
   ]
  },
  {
   "source": [],
   "cell_type": "markdown",
   "metadata": {}
  },
  {
   "source": [
    "# Ange en radie o den räknar ut omktrets och om den är positiv eller negativ"
   ],
   "cell_type": "markdown",
   "metadata": {}
  }
 ]
}