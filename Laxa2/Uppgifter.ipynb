{
 "metadata": {
  "language_info": {
   "codemirror_mode": {
    "name": "ipython",
    "version": 3
   },
   "file_extension": ".py",
   "mimetype": "text/x-python",
   "name": "python",
   "nbconvert_exporter": "python",
   "pygments_lexer": "ipython3",
   "version": "3.8.3-final"
  },
  "orig_nbformat": 2,
  "kernelspec": {
   "name": "python_defaultSpec_1600254967269",
   "display_name": "Python 3.8.3 64-bit ('base': conda)"
  }
 },
 "nbformat": 4,
 "nbformat_minor": 2,
 "cells": [
  {
   "source": [
    "# Skriv in ett tal och pogrammet avgör om det är positivt eller negativt"
   ],
   "cell_type": "markdown",
   "metadata": {}
  },
  {
   "cell_type": "code",
   "execution_count": 26,
   "metadata": {
    "tags": []
   },
   "outputs": [
    {
     "output_type": "stream",
     "name": "stdout",
     "text": "Talet är postitivt\n"
    }
   ],
   "source": [
    "tal = float(input(\"Ange ett tal: \"))\n",
    "if tal >= 0:\n",
    "    print(\"Talet är postitivt\")\n",
    "elif tal <0:\n",
    "    print(\"Talet är negativt\")"
   ]
  },
  {
   "source": [
    "# Skriv in ett tal och den avgör om det är jämnt, udda eller delbart med 5\n"
   ],
   "cell_type": "markdown",
   "metadata": {}
  },
  {
   "cell_type": "code",
   "execution_count": 28,
   "metadata": {
    "tags": []
   },
   "outputs": [
    {
     "output_type": "stream",
     "name": "stdout",
     "text": "Talet är Udda\n"
    }
   ],
   "source": [
    "tal= float(input(\"Ange ett tal:\"))\n",
    "if tal%2 == 0:\n",
    "    print(\"Talet är jämnt\")\n",
    "elif tal%5 == 0:\n",
    "    print(\"Talet är delbart med fem\")\n",
    "else:\n",
    "    print(\"Talet är Udda\")"
   ]
  },
  {
   "source": [
    "# Låt användaren mata in fyra tal och den spottar ut största talet\n"
   ],
   "cell_type": "markdown",
   "metadata": {}
  },
  {
   "cell_type": "code",
   "execution_count": 39,
   "metadata": {
    "tags": []
   },
   "outputs": [
    {
     "output_type": "error",
     "ename": "SyntaxError",
     "evalue": "invalid syntax (<ipython-input-39-684eab45e71e>, line 9)",
     "traceback": [
      "\u001b[1;36m  File \u001b[1;32m\"<ipython-input-39-684eab45e71e>\"\u001b[1;36m, line \u001b[1;32m9\u001b[0m\n\u001b[1;33m    elif Tal3 > Tal1 or Tal2 or Tal4\u001b[0m\n\u001b[1;37m                                    ^\u001b[0m\n\u001b[1;31mSyntaxError\u001b[0m\u001b[1;31m:\u001b[0m invalid syntax\n"
     ]
    }
   ],
   "source": [
    "Tal1 = float(input(\"Ange ett tal:\", ))\n",
    "Tal2 = float(input(\"Ange ett tal:\", ))\n",
    "Tal3 = float(input(\"Ange ett tal:\", ))\n",
    "Tal4 = float(input(\"Ange ett tal:\", ))\n",
    "if Tal1 > Tal2 or Tal3 or Tal4:\n",
    "     print(Tal1, \"är störst\")\n",
    "elif Tal2 > Tal1 or Tal3 or Tal4:\n",
    "     print(Tal2, \"är störst\")\n",
    "elif Tal3 > Tal1 or Tal2 or Tal4\n",
    "     print(Tal3, \"är störst\")\n",
    "elif Tal4 > Tal1 or Tal2 or Tal3\n",
    "     print(Tal4,\"är störst\")"
   ]
  },
  {
   "source": [
    "# Låt användaren skriva in vinkel"
   ],
   "cell_type": "markdown",
   "metadata": {}
  },
  {
   "cell_type": "code",
   "execution_count": null,
   "metadata": {},
   "outputs": [],
   "source": [
    "vinkel= float(input(\"Ange en vinkel v i grader, där 0<= v <=360: \"))\n",
    "\n",
    "# 0 <= v <90\n",
    "\n",
    "if vinkel >= 0 and vinkel <90:\n",
    "    print(\"spetsig vinkel\")\n",
    "elif vinkel==90:\n",
    "    print(\"rät vinkel\")\n",
    "elif vinkel > 90 and vinkel <180:\n",
    "    print(\"Trubbig vinkel\")\n",
    "elif vinkel = 180 \n",
    "    print(\"Rakvinkel\")\n",
    "elif vinkel\n",
    "else:\n",
    "    print(\"Vinkeln är inte spetsig, rät eller trubbig\")"
   ]
  }
 ]
}